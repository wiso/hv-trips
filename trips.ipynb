{
 "cells": [
  {
   "cell_type": "code",
   "execution_count": 43,
   "metadata": {
    "collapsed": false
   },
   "outputs": [],
   "source": [
    "import pandas as pd\n",
    "from StringIO import StringIO\n",
    "from matplotlib import pyplot as plt\n",
    "import numpy as np\n",
    "import matplotlib\n",
    "from IPython.display import display, display_html, display_markdown\n",
    "matplotlib.rc('xtick', labelsize=15) \n",
    "matplotlib.rc('ytick', labelsize=15) \n",
    "matplotlib.rc('axes', labelsize=20) \n",
    "matplotlib.rc('legend', fontsize=15) \n",
    "from matplotlib import rcParams\n",
    "rcParams.update({'figure.autolayout': True})\n",
    "%matplotlib inline"
   ]
  },
  {
   "cell_type": "code",
   "execution_count": 31,
   "metadata": {
    "collapsed": false
   },
   "outputs": [
    {
     "data": {
      "text/html": [
       "<h2>head of 2011 data</h2>"
      ]
     },
     "metadata": {},
     "output_type": "display_data"
    },
    {
     "data": {
      "text/html": [
       "<div style=\"max-height:1000px;max-width:1500px;overflow:auto;\">\n",
       "<table border=\"1\" class=\"dataframe\">\n",
       "  <thead>\n",
       "    <tr style=\"text-align: right;\">\n",
       "      <th></th>\n",
       "      <th>Trip TimeStamp</th>\n",
       "      <th>Stable Beams</th>\n",
       "      <th>Module</th>\n",
       "      <th>Channel</th>\n",
       "      <th>Det</th>\n",
       "      <th>Side</th>\n",
       "      <th>channel_id</th>\n",
       "    </tr>\n",
       "    <tr>\n",
       "      <th>TripId</th>\n",
       "      <th></th>\n",
       "      <th></th>\n",
       "      <th></th>\n",
       "      <th></th>\n",
       "      <th></th>\n",
       "      <th></th>\n",
       "      <th></th>\n",
       "    </tr>\n",
       "  </thead>\n",
       "  <tbody>\n",
       "    <tr>\n",
       "      <th>563</th>\n",
       "      <td>2011-11-27 00:44:33</td>\n",
       "      <td>Y</td>\n",
       "      <td>49</td>\n",
       "      <td>1</td>\n",
       "      <td>HEC</td>\n",
       "      <td>A</td>\n",
       "      <td>M49C1</td>\n",
       "    </tr>\n",
       "    <tr>\n",
       "      <th>562</th>\n",
       "      <td>2011-11-11 08:38:31</td>\n",
       "      <td>N</td>\n",
       "      <td>158</td>\n",
       "      <td>6</td>\n",
       "      <td>HEC</td>\n",
       "      <td>C</td>\n",
       "      <td>M158C6</td>\n",
       "    </tr>\n",
       "    <tr>\n",
       "      <th>561</th>\n",
       "      <td>2011-11-10 13:31:49</td>\n",
       "      <td>N</td>\n",
       "      <td>317</td>\n",
       "      <td>15</td>\n",
       "      <td>EMECPS</td>\n",
       "      <td>C</td>\n",
       "      <td>M317C15</td>\n",
       "    </tr>\n",
       "    <tr>\n",
       "      <th>560</th>\n",
       "      <td>2011-10-30 07:23:52</td>\n",
       "      <td>N</td>\n",
       "      <td>74</td>\n",
       "      <td>7</td>\n",
       "      <td>HEC</td>\n",
       "      <td>A</td>\n",
       "      <td>M74C7</td>\n",
       "    </tr>\n",
       "    <tr>\n",
       "      <th>559</th>\n",
       "      <td>2011-10-29 03:05:22</td>\n",
       "      <td>N</td>\n",
       "      <td>69</td>\n",
       "      <td>4</td>\n",
       "      <td>HEC</td>\n",
       "      <td>A</td>\n",
       "      <td>M69C4</td>\n",
       "    </tr>\n",
       "  </tbody>\n",
       "</table>\n",
       "</div>"
      ],
      "text/plain": [
       "            Trip TimeStamp Stable Beams  Module  Channel     Det Side  \\\n",
       "TripId                                                                  \n",
       "563    2011-11-27 00:44:33            Y      49        1     HEC    A   \n",
       "562    2011-11-11 08:38:31            N     158        6     HEC    C   \n",
       "561    2011-11-10 13:31:49            N     317       15  EMECPS    C   \n",
       "560    2011-10-30 07:23:52            N      74        7     HEC    A   \n",
       "559    2011-10-29 03:05:22            N      69        4     HEC    A   \n",
       "\n",
       "       channel_id  \n",
       "TripId             \n",
       "563         M49C1  \n",
       "562        M158C6  \n",
       "561       M317C15  \n",
       "560         M74C7  \n",
       "559         M69C4  "
      ]
     },
     "metadata": {},
     "output_type": "display_data"
    },
    {
     "data": {
      "text/html": [
       "<h2>head of 2012 data</h2>"
      ]
     },
     "metadata": {},
     "output_type": "display_data"
    },
    {
     "data": {
      "text/html": [
       "<div style=\"max-height:1000px;max-width:1500px;overflow:auto;\">\n",
       "<table border=\"1\" class=\"dataframe\">\n",
       "  <thead>\n",
       "    <tr style=\"text-align: right;\">\n",
       "      <th></th>\n",
       "      <th>Trip TimeStamp</th>\n",
       "      <th>Stable Beams</th>\n",
       "      <th>Module</th>\n",
       "      <th>Channel</th>\n",
       "      <th>Det</th>\n",
       "      <th>Side</th>\n",
       "      <th>channel_id</th>\n",
       "    </tr>\n",
       "    <tr>\n",
       "      <th>TripId</th>\n",
       "      <th></th>\n",
       "      <th></th>\n",
       "      <th></th>\n",
       "      <th></th>\n",
       "      <th></th>\n",
       "      <th></th>\n",
       "      <th></th>\n",
       "    </tr>\n",
       "  </thead>\n",
       "  <tbody>\n",
       "    <tr>\n",
       "      <th>383</th>\n",
       "      <td>2013-02-06 06:43:19</td>\n",
       "      <td>Y</td>\n",
       "      <td>78</td>\n",
       "      <td>7</td>\n",
       "      <td>HEC</td>\n",
       "      <td>A</td>\n",
       "      <td>M78C7</td>\n",
       "    </tr>\n",
       "    <tr>\n",
       "      <th>382</th>\n",
       "      <td>2013-02-06 04:22:53</td>\n",
       "      <td>N</td>\n",
       "      <td>78</td>\n",
       "      <td>7</td>\n",
       "      <td>HEC</td>\n",
       "      <td>A</td>\n",
       "      <td>M78C7</td>\n",
       "    </tr>\n",
       "    <tr>\n",
       "      <th>381</th>\n",
       "      <td>2013-02-05 17:19:33</td>\n",
       "      <td>N</td>\n",
       "      <td>78</td>\n",
       "      <td>7</td>\n",
       "      <td>HEC</td>\n",
       "      <td>A</td>\n",
       "      <td>M78C7</td>\n",
       "    </tr>\n",
       "    <tr>\n",
       "      <th>380</th>\n",
       "      <td>2013-01-24 10:31:38</td>\n",
       "      <td>N</td>\n",
       "      <td>240</td>\n",
       "      <td>11</td>\n",
       "      <td>EMB</td>\n",
       "      <td>C</td>\n",
       "      <td>M240C11</td>\n",
       "    </tr>\n",
       "    <tr>\n",
       "      <th>379</th>\n",
       "      <td>2013-01-23 12:27:22</td>\n",
       "      <td>Y</td>\n",
       "      <td>224</td>\n",
       "      <td>14</td>\n",
       "      <td>EMB</td>\n",
       "      <td>A</td>\n",
       "      <td>M224C14</td>\n",
       "    </tr>\n",
       "  </tbody>\n",
       "</table>\n",
       "</div>"
      ],
      "text/plain": [
       "            Trip TimeStamp Stable Beams  Module  Channel  Det Side channel_id\n",
       "TripId                                                                       \n",
       "383    2013-02-06 06:43:19            Y      78        7  HEC    A      M78C7\n",
       "382    2013-02-06 04:22:53            N      78        7  HEC    A      M78C7\n",
       "381    2013-02-05 17:19:33            N      78        7  HEC    A      M78C7\n",
       "380    2013-01-24 10:31:38            N     240       11  EMB    C    M240C11\n",
       "379    2013-01-23 12:27:22            Y     224       14  EMB    A    M224C14"
      ]
     },
     "metadata": {},
     "output_type": "display_data"
    }
   ],
   "source": [
    "data = {}\n",
    "\n",
    "for year, filename in (2011, \"trips_2011.txt\"), (2012, \"trips_2012.txt\"):\n",
    "    data[year] = pd.read_table(filename, parse_dates=[\"Trip TimeStamp\"], index_col=[\"TripId\"], usecols=[\"TripId\", \"Trip TimeStamp\", \"Stable Beams\", \"Module\", \"Channel\", \"Det\", \"Side\"])\n",
    "    data[year][\"channel_id\"] = data[year].apply(lambda x: \"M\" + str(x[\"Module\"]) + \"C\" + str(x[\"Channel\"]), axis=1)\n",
    "    display_html(\"<h2>head of %d data</h2>\" % year, raw=True)\n",
    "    display(data[year].head())\n",
    "    \n",
    "data = pd.concat(data, names=['year'])"
   ]
  },
  {
   "cell_type": "code",
   "execution_count": 67,
   "metadata": {
    "collapsed": false
   },
   "outputs": [
    {
     "data": {
      "text/html": [
       "<div style=\"max-height:1000px;max-width:1500px;overflow:auto;\">\n",
       "<table border=\"1\" class=\"dataframe\">\n",
       "  <thead>\n",
       "    <tr style=\"text-align: right;\">\n",
       "      <th></th>\n",
       "      <th>#</th>\n",
       "    </tr>\n",
       "  </thead>\n",
       "  <tbody>\n",
       "    <tr>\n",
       "      <th>M132C3</th>\n",
       "      <td>17</td>\n",
       "    </tr>\n",
       "    <tr>\n",
       "      <th>M161C3</th>\n",
       "      <td>9</td>\n",
       "    </tr>\n",
       "    <tr>\n",
       "      <th>M30C10</th>\n",
       "      <td>6</td>\n",
       "    </tr>\n",
       "    <tr>\n",
       "      <th>M4C4</th>\n",
       "      <td>6</td>\n",
       "    </tr>\n",
       "    <tr>\n",
       "      <th>M8C4</th>\n",
       "      <td>6</td>\n",
       "    </tr>\n",
       "  </tbody>\n",
       "</table>\n",
       "</div>"
      ],
      "text/plain": [
       "         #\n",
       "M132C3  17\n",
       "M161C3   9\n",
       "M30C10   6\n",
       "M4C4     6\n",
       "M8C4     6"
      ]
     },
     "execution_count": 67,
     "metadata": {},
     "output_type": "execute_result"
    }
   ],
   "source": [
    "x = data_year[\"channel_id\"].value_counts().head()\n",
    "x.to_frame(name='#')"
   ]
  },
  {
   "cell_type": "markdown",
   "metadata": {},
   "source": [
    "## Most tripped channels"
   ]
  },
  {
   "cell_type": "code",
   "execution_count": 71,
   "metadata": {
    "collapsed": false
   },
   "outputs": [
    {
     "data": {
      "text/markdown": [
       "### all years\n",
       " ----"
      ]
     },
     "metadata": {},
     "output_type": "display_data"
    },
    {
     "data": {
      "text/html": [
       "<div style=\"max-height:1000px;max-width:1500px;overflow:auto;\">\n",
       "<table border=\"1\" class=\"dataframe\">\n",
       "  <thead>\n",
       "    <tr style=\"text-align: right;\">\n",
       "      <th></th>\n",
       "      <th># trips</th>\n",
       "    </tr>\n",
       "  </thead>\n",
       "  <tbody>\n",
       "    <tr>\n",
       "      <th>M142C11</th>\n",
       "      <td>18</td>\n",
       "    </tr>\n",
       "    <tr>\n",
       "      <th>M132C3</th>\n",
       "      <td>17</td>\n",
       "    </tr>\n",
       "    <tr>\n",
       "      <th>M102C1</th>\n",
       "      <td>12</td>\n",
       "    </tr>\n",
       "    <tr>\n",
       "      <th>M144C6</th>\n",
       "      <td>10</td>\n",
       "    </tr>\n",
       "    <tr>\n",
       "      <th>M30C10</th>\n",
       "      <td>10</td>\n",
       "    </tr>\n",
       "  </tbody>\n",
       "</table>\n",
       "</div>"
      ],
      "text/plain": [
       "         # trips\n",
       "M142C11       18\n",
       "M132C3        17\n",
       "M102C1        12\n",
       "M144C6        10\n",
       "M30C10        10"
      ]
     },
     "metadata": {},
     "output_type": "display_data"
    },
    {
     "data": {
      "text/markdown": [
       "### 2011\n",
       " ----"
      ]
     },
     "metadata": {},
     "output_type": "display_data"
    },
    {
     "data": {
      "text/html": [
       "<div style=\"max-height:1000px;max-width:1500px;overflow:auto;\">\n",
       "<table border=\"1\" class=\"dataframe\">\n",
       "  <thead>\n",
       "    <tr style=\"text-align: right;\">\n",
       "      <th></th>\n",
       "      <th># trips</th>\n",
       "    </tr>\n",
       "  </thead>\n",
       "  <tbody>\n",
       "    <tr>\n",
       "      <th>M142C11</th>\n",
       "      <td>15</td>\n",
       "    </tr>\n",
       "    <tr>\n",
       "      <th>M102C1</th>\n",
       "      <td>10</td>\n",
       "    </tr>\n",
       "    <tr>\n",
       "      <th>M144C6</th>\n",
       "      <td>10</td>\n",
       "    </tr>\n",
       "    <tr>\n",
       "      <th>M31C4</th>\n",
       "      <td>9</td>\n",
       "    </tr>\n",
       "    <tr>\n",
       "      <th>M21C10</th>\n",
       "      <td>9</td>\n",
       "    </tr>\n",
       "  </tbody>\n",
       "</table>\n",
       "</div>"
      ],
      "text/plain": [
       "         # trips\n",
       "M142C11       15\n",
       "M102C1        10\n",
       "M144C6        10\n",
       "M31C4          9\n",
       "M21C10         9"
      ]
     },
     "metadata": {},
     "output_type": "display_data"
    },
    {
     "data": {
      "text/markdown": [
       "### 2012\n",
       " ----"
      ]
     },
     "metadata": {},
     "output_type": "display_data"
    },
    {
     "data": {
      "text/html": [
       "<div style=\"max-height:1000px;max-width:1500px;overflow:auto;\">\n",
       "<table border=\"1\" class=\"dataframe\">\n",
       "  <thead>\n",
       "    <tr style=\"text-align: right;\">\n",
       "      <th></th>\n",
       "      <th># trips</th>\n",
       "    </tr>\n",
       "  </thead>\n",
       "  <tbody>\n",
       "    <tr>\n",
       "      <th>M132C3</th>\n",
       "      <td>17</td>\n",
       "    </tr>\n",
       "    <tr>\n",
       "      <th>M161C3</th>\n",
       "      <td>9</td>\n",
       "    </tr>\n",
       "    <tr>\n",
       "      <th>M30C10</th>\n",
       "      <td>6</td>\n",
       "    </tr>\n",
       "    <tr>\n",
       "      <th>M4C4</th>\n",
       "      <td>6</td>\n",
       "    </tr>\n",
       "    <tr>\n",
       "      <th>M8C4</th>\n",
       "      <td>6</td>\n",
       "    </tr>\n",
       "  </tbody>\n",
       "</table>\n",
       "</div>"
      ],
      "text/plain": [
       "        # trips\n",
       "M132C3       17\n",
       "M161C3        9\n",
       "M30C10        6\n",
       "M4C4          6\n",
       "M8C4          6"
      ]
     },
     "metadata": {},
     "output_type": "display_data"
    }
   ],
   "source": [
    "display_markdown(\"### all years\\n ----\", raw=True)\n",
    "display(data[\"channel_id\"].value_counts().head().to_frame(name=\"# trips\"))\n",
    "for year, data_year in data.groupby(level='year'):\n",
    "    display_markdown(\"### %d\\n ----\" % year, raw=True)\n",
    "    display(data_year[\"channel_id\"].value_counts().head().to_frame(name=\"# trips\"))"
   ]
  },
  {
   "cell_type": "code",
   "execution_count": 10,
   "metadata": {
    "collapsed": false
   },
   "outputs": [
    {
     "name": "stdout",
     "output_type": "stream",
     "text": [
      "Det\n",
      "EMB       3\n",
      "EMBPS     3\n",
      "EMEC      7\n",
      "HEC      23\n",
      "Name: Det, dtype: int64\n"
     ]
    },
    {
     "data": {
      "image/png": "[encoded data removed]",
      "text/plain": [
       "<matplotlib.figure.Figure at 0x5765610>"
      ]
     },
     "metadata": {},
     "output_type": "display_data"
    }
   ],
   "source": [
    "fig, ax = plt.subplots(figsize=(3.7, 9))\n",
    "ax2 = ax.twinx()\n",
    "\n",
    "trips_per_det = data.groupby(\"Det\")[\"Det\"].count()\n",
    "print trips_per_det\n",
    "trips_per_det_sb = data[data[\"Stable Beams\"] == 'Y'].groupby(\"Det\")['channel_id'].count()\n",
    "\n",
    "j = pd.DataFrame(dict(trips_per_det = trips_per_det, trips_per_det_sb = trips_per_det_sb))\n",
    "sb_fraction = j.trips_per_det_sb / j.trips_per_det * 100\n",
    "sb_fraction.plot(marker = 'o', color='k', ls='', label='with stable beam [%]', ax=ax2)\n",
    "\n",
    "j['trips_per_det'].plot(kind='bar', ax=ax, fc='r', label='#trips')\n",
    "j['trips_per_det_sb'].plot(kind='bar', ax=ax, label='#trips SB')\n",
    "\n",
    "ax2.grid(False)\n",
    "ax2.set_ylim(0, 120)\n",
    "ax2.set_ylabel('with stable beam [%]', fontsize=16)\n",
    "ax.set_ylim(0, 30)\n",
    "\n",
    "ax.set_xlabel('')\n",
    "ax.legend()\n",
    "plt.show()\n",
    "\n",
    "fig.tight_layout()\n",
    "fig.savefig('sb_2015.pdf')"
   ]
  },
  {
   "cell_type": "code",
   "execution_count": 11,
   "metadata": {
    "collapsed": false
   },
   "outputs": [
    {
     "data": {
      "image/png": "[encoded data removed]",
      "text/plain": [
       "<matplotlib.figure.Figure at 0x59bf9d0>"
      ]
     },
     "metadata": {},
     "output_type": "display_data"
    }
   ],
   "source": [
    "fig, ax = plt.subplots(figsize=(3.7, 9))\n",
    "ax2 = ax.twinx()\n",
    "\n",
    "trips_per_det = data.groupby(\"Det\")[\"Det\"].count()\n",
    "tripped_per_det = data.groupby(\"Det\")['channel_id'].unique().apply(len)\n",
    "\n",
    "j = pd.DataFrame(dict(trips_per_det = trips_per_det, tripped_per_det = tripped_per_det))\n",
    "retrip = (1. - j.tripped_per_det / j.trips_per_det) * 100\n",
    "\n",
    "retrip.plot(marker = 'o', color='k', ls='', label='retrip [%]', ax=ax2, zorder=100)\n",
    "j.trips_per_det.plot(kind='bar', ax=ax, fc='r', label='#trips')\n",
    "j.tripped_per_det.plot(kind='bar', ax=ax, label='#tripped chs')\n",
    "ax2.grid(False)\n",
    "ax2.set_ylim(0, 120)\n",
    "ax2.set_ylabel('retrip probability [%]', fontsize=16)\n",
    "ax.set_ylim(0, 30)\n",
    "\n",
    "ax.set_xlabel('')\n",
    "ax.legend()\n",
    "plt.show()\n",
    "\n",
    "fig.tight_layout()\n",
    "fig.savefig('summary_2015.pdf')"
   ]
  },
  {
   "cell_type": "code",
   "execution_count": 12,
   "metadata": {
    "collapsed": false,
    "scrolled": false
   },
   "outputs": [
    {
     "data": {
      "image/png": "[encoded data removed]",
      "text/plain": [
       "<matplotlib.figure.Figure at 0x59bf250>"
      ]
     },
     "metadata": {},
     "output_type": "display_data"
    }
   ],
   "source": [
    "def plot_month(data):\n",
    "    import matplotlib.dates as mdates\n",
    "\n",
    "    import locale\n",
    "\n",
    "    locale.setlocale(locale.LC_ALL, 'en_US')\n",
    "\n",
    "    months = mdates.MonthLocator()  # every month\n",
    "    monthsFmt = mdates.DateFormatter('%Y')\n",
    "\n",
    "    fig, ax = plt.subplots(figsize=(12, 9))\n",
    "    dg = data.groupby([pd.Grouper(freq='15D',key='Trip TimeStamp', closed='right'), \"Det\"])[\"Det\"].count().unstack()\n",
    "    dg.plot(kind='bar', ax=ax, stacked=True)\n",
    "    ax.set_xticklabels([dt.strftime('%d %b %Y') for dt in dg.index])\n",
    "    ax.set_ylabel(\"# trips\")\n",
    "    ax.set_xlabel(\"\")\n",
    "    fig.tight_layout()\n",
    "    return fig\n",
    "\n",
    "fig = plot_month(data)\n",
    "plt.show()\n",
    "fig.savefig('trips2015.pdf')"
   ]
  },
  {
   "cell_type": "code",
   "execution_count": 260,
   "metadata": {
    "collapsed": false
   },
   "outputs": [
    {
     "data": {
      "image/png": "[encoded data removed]",
      "text/plain": [
       "<matplotlib.figure.Figure at 0xee74a50>"
      ]
     },
     "metadata": {},
     "output_type": "display_data"
    }
   ],
   "source": [
    "times = pd.DatetimeIndex(data[\"Trip TimeStamp\"])\n",
    "dg = data.groupby([times.hour, \"Det\"])[\"Det\"].count().unstack()\n",
    "\n",
    "import matplotlib.dates as mdates\n",
    "\n",
    "import locale\n",
    "\n",
    "locale.setlocale(locale.LC_ALL, 'en_US')\n",
    "\n",
    "fig, ax = plt.subplots(figsize=(15, 9))\n",
    "dg.plot(kind='bar', ax=ax, stacked=True)\n",
    "#ax.set_xticklabels([dt.strftime('%d %b %Y') for dt in dg.index])\n",
    "ax.set_ylabel(\"# trips\")\n",
    "ax.set_xlabel(\"\")\n",
    "fig.tight_layout()\n",
    "plt.show()"
   ]
  },
  {
   "cell_type": "code",
   "execution_count": 5,
   "metadata": {
    "collapsed": false
   },
   "outputs": [
    {
     "name": "stdout",
     "output_type": "stream",
     "text": [
      "#trips = 36, trips / day = 0.2\n",
      "#trips with sb = 24 (66.67%)\n"
     ]
    }
   ],
   "source": [
    "import datetime\n",
    "times = data[\"Trip TimeStamp\"].astype(datetime.datetime)\n",
    "days = (times.max() - times.min()).days\n",
    "print \"#trips = %d, trips / day = %.1f\" % (len(data), len(data) / float(days))\n",
    "trips_sb = (data['Stable Beams'] == 'Y').sum()\n",
    "print \"#trips with sb = %d (%.2f%%)\" % (trips_sb, trips_sb / float(len(data)) * 100)"
   ]
  },
  {
   "cell_type": "code",
   "execution_count": null,
   "metadata": {
    "collapsed": true
   },
   "outputs": [],
   "source": []
  }
 ],
 "metadata": {
  "kernelspec": {
   "display_name": "Python 2",
   "language": "python",
   "name": "python2"
  },
  "language_info": {
   "codemirror_mode": {
    "name": "ipython",
    "version": 2
   },
   "file_extension": ".py",
   "mimetype": "text/x-python",
   "name": "python",
   "nbconvert_exporter": "python",
   "pygments_lexer": "ipython2",
   "version": "2.7.5"
  }
 },
 "nbformat": 4,
 "nbformat_minor": 0
}
